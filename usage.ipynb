{
 "cells": [
  {
   "cell_type": "markdown",
   "metadata": {},
   "source": [
    "# Using fw-heudiconv\n",
    "\n",
    "Try some use cases for fw-heudiconv. "
   ]
  },
  {
   "cell_type": "code",
   "execution_count": 40,
   "metadata": {},
   "outputs": [
    {
     "name": "stderr",
     "output_type": "stream",
     "text": [
      "/Users/ttapera/miniconda3/envs/fw_bids/lib/python3.7/site-packages/flywheel/flywheel.py:5474: UserWarning: Client version 6.0.6 does not match server version 5.0.4. Please update your client version!\n",
      "  warnings.warn('Client version {} does not match server version {}. Please update your client version!'.format(SDK_VERSION, release_version))\n",
      "WARNING: Use \"pip install flywheel-sdk~=5.0.4\" to install a compatible version for this server\n"
     ]
    }
   ],
   "source": [
    "import flywheel\n",
    "from fw_heudiconv.query import query\n",
    "from heudiconv import utils\n",
    "\n",
    "client = flywheel.Client()\n",
    "\n",
    "seq_infos = query(client, \"GRMPY_822831\", \"128154\", None)\n"
   ]
  },
  {
   "cell_type": "markdown",
   "metadata": {},
   "source": [
    "Testing with a real heuristic:"
   ]
  },
  {
   "cell_type": "code",
   "execution_count": 41,
   "metadata": {},
   "outputs": [],
   "source": [
    "import os\n",
    "\n",
    "\n",
    "def create_key(template, outtype=('nii.gz',), annotation_classes=None):\n",
    "    if template is None or not template:\n",
    "        raise ValueError('Template must be a valid format string')\n",
    "    return template, outtype, annotation_classes\n",
    "\n",
    "\n",
    "def infotodict(seqinfo):\n",
    "    \"\"\"Heuristic evaluator for determining which runs belong where\n",
    "\n",
    "    allowed template fields - follow python string module:\n",
    "\n",
    "    item: index within category\n",
    "    subject: participant id\n",
    "    seqitem: run number during scanning\n",
    "    subindex: sub index within group\n",
    "    \"\"\"\n",
    "\n",
    "    last_run = len(seqinfo)\n",
    "\n",
    "    # Create Keys\n",
    "    t1w = create_key(\n",
    "       'sub-{subject}/{session}/anat/sub-{subject}_{session}_T1w')\n",
    "    t2w = create_key(\n",
    "       'sub-{subject}/{session}/anat/sub-{subject}_{session}_T2w')\n",
    "    dwi = create_key(\n",
    "       'sub-{subject}/{session}/dwi/sub-{subject}_{session}_acq-multiband_dwi')\n",
    "\n",
    "    # Field maps\n",
    "    b0_phase = create_key(\n",
    "       'sub-{subject}/{session}/fmap/sub-{subject}_{session}_phasediff')\n",
    "    b0_mag = create_key(\n",
    "       'sub-{subject}/{session}/fmap/sub-{subject}_{session}_magnitude')\n",
    "    pe_rev = create_key(\n",
    "        'sub-{subject}/{session}/fmap/sub-{subject}_{session}_acq-multiband_dir-j_epi')\n",
    "\n",
    "    # fmri scans\n",
    "    rest_mb = create_key(\n",
    "       'sub-{subject}/{session}/func/sub-{subject}_{session}_task-rest_acq-multiband_bold')\n",
    "    rest_sb = create_key(\n",
    "       'sub-{subject}/{session}/func/sub-{subject}_{session}_task-rest_acq-singleband_bold')\n",
    "    fracback = create_key(\n",
    "       'sub-{subject}/{session}/func/sub-{subject}_{session}_task-fracback_acq-singleband_bold')\n",
    "    face = create_key(\n",
    "       'sub-{subject}/{session}/func/sub-{subject}_{session}_task-face_acq-singleband_bold')\n",
    "\n",
    "    # ASL scans\n",
    "    asl = create_key(\n",
    "       'sub-{subject}/{session}/asl/sub-{subject}_{session}_asl')\n",
    "    asl_dicomref = create_key(\n",
    "       'sub-{subject}/{session}/asl/sub-{subject}_{session}_acq-ref_asl')\n",
    "    m0 = create_key(\n",
    "       'sub-{subject}/{session}/asl/sub-{subject}_{session}_m0')\n",
    "    mean_perf = create_key(\n",
    "       'sub-{subject}/{session}/asl/sub-{subject}_{session}_mean-perfusion')\n",
    "\n",
    "    info = {t1w:[], t2w:[], dwi:[], b0_phase:[], \n",
    "            b0_mag:[], pe_rev:[], rest_mb:[], rest_sb:[],\n",
    "            fracback:[], asl_dicomref:[], face:[], asl:[],\n",
    "            m0:[], mean_perf:[]}\n",
    "\n",
    "    def get_latest_series(key, s):\n",
    "    #    if len(info[key]) == 0:\n",
    "        info[key].append(s.series_id)\n",
    "    #    else:\n",
    "    #        info[key] = [s.series_id]\n",
    "\n",
    "    for s in seqinfo:\n",
    "        protocol = s.protocol_name.lower()\n",
    "        if \"mprage\" in protocol:\n",
    "            get_latest_series(t1w,s)\n",
    "        elif \"t2_sag\" in protocol:\n",
    "            get_latest_series(t2w,s)\n",
    "        elif \"b0map\" in protocol and \"M\" in s.image_type:\n",
    "            info[b0_mag].append(s.series_id)\n",
    "        elif \"b0map\" in protocol and \"P\" in s.image_type:\n",
    "            info[b0_phase].append(s.series_id)\n",
    "        elif \"topup_ref\" in protocol:\n",
    "            get_latest_series(pe_rev, s)\n",
    "        elif \"dti_multishell\" in protocol and not s.is_derived:\n",
    "            get_latest_series(dwi, s)\n",
    "\n",
    "        elif s.series_description.endswith(\"_ASL\"):\n",
    "            get_latest_series(asl, s)\n",
    "        elif protocol.startswith(\"asl_dicomref\"):\n",
    "            get_latest_series(asl_dicomref, s)\n",
    "        elif s.series_description.endswith(\"_M0\"):\n",
    "            get_latest_series(m0, s)\n",
    "        elif s.series_description.endswith(\"_MeanPerf\"):\n",
    "            get_latest_series(mean_perf, s)\n",
    "\n",
    "        elif \"fracback\" in protocol:\n",
    "            get_latest_series(fracback, s)\n",
    "        elif \"face\" in protocol:\n",
    "            get_latest_series(face,s)\n",
    "        elif \"rest\" in protocol:\n",
    "            if \"MB\" in s.image_type:\n",
    "                get_latest_series(rest_mb,s)\n",
    "            else:\n",
    "                get_latest_series(rest_mb,s)\n",
    "        else:\n",
    "            print(\"Series not recognized!: \", s.protocol_name)\n",
    "    return info"
   ]
  },
  {
   "cell_type": "code",
   "execution_count": 42,
   "metadata": {},
   "outputs": [
    {
     "name": "stdout",
     "output_type": "stream",
     "text": [
      "Series not recognized!:  Localizer\n",
      "Series not recognized!:  Localizer\n",
      "Series not recognized!:  Localizer\n",
      "Series not recognized!:  \n",
      "Series not recognized!:  TOF_3D_multi-slab_R2\n",
      "Series not recognized!:  TOF_3D_multi-slab_R2\n",
      "Series not recognized!:  TOF_3D_multi-slab_R2\n",
      "Series not recognized!:  TOF_3D_multi-slab_R2\n"
     ]
    }
   ],
   "source": [
    "to_rename = infotodict(seq_infos)"
   ]
  },
  {
   "cell_type": "code",
   "execution_count": 43,
   "metadata": {},
   "outputs": [
    {
     "data": {
      "text/plain": [
       "{('sub-{subject}/{session}/anat/sub-{subject}_{session}_T1w',\n",
       "  ('nii.gz',),\n",
       "  None): ['5c756369ba258000383983e9'],\n",
       " ('sub-{subject}/{session}/anat/sub-{subject}_{session}_T2w',\n",
       "  ('nii.gz',),\n",
       "  None): ['5c756369ba258000383983e8'],\n",
       " ('sub-{subject}/{session}/dwi/sub-{subject}_{session}_acq-multiband_dwi',\n",
       "  ('nii.gz',),\n",
       "  None): ['5c75636aba258000383983ed',\n",
       "  '5c75636aba258000383983ed',\n",
       "  '5c75636aba258000383983ed'],\n",
       " ('sub-{subject}/{session}/fmap/sub-{subject}_{session}_phasediff',\n",
       "  ('nii.gz',),\n",
       "  None): ['5c756369ba258000383983e6'],\n",
       " ('sub-{subject}/{session}/fmap/sub-{subject}_{session}_magnitude',\n",
       "  ('nii.gz',),\n",
       "  None): ['5c756369ba2580002e38dd86', '5c756369ba2580002e38dd86'],\n",
       " ('sub-{subject}/{session}/fmap/sub-{subject}_{session}_acq-multiband_dir-j_epi',\n",
       "  ('nii.gz',),\n",
       "  None): ['5c75636aba258000383983eb'],\n",
       " ('sub-{subject}/{session}/func/sub-{subject}_{session}_task-rest_acq-multiband_bold',\n",
       "  ('nii.gz',),\n",
       "  None): ['5c75636aba258000383983f0', '5c75636aba2580002e38dd87'],\n",
       " ('sub-{subject}/{session}/func/sub-{subject}_{session}_task-rest_acq-singleband_bold',\n",
       "  ('nii.gz',),\n",
       "  None): [],\n",
       " ('sub-{subject}/{session}/func/sub-{subject}_{session}_task-fracback_acq-singleband_bold',\n",
       "  ('nii.gz',),\n",
       "  None): ['5c75636aba258000383983ea'],\n",
       " ('sub-{subject}/{session}/asl/sub-{subject}_{session}_acq-ref_asl',\n",
       "  ('nii.gz',),\n",
       "  None): [],\n",
       " ('sub-{subject}/{session}/func/sub-{subject}_{session}_task-face_acq-singleband_bold',\n",
       "  ('nii.gz',),\n",
       "  None): [],\n",
       " ('sub-{subject}/{session}/asl/sub-{subject}_{session}_asl',\n",
       "  ('nii.gz',),\n",
       "  None): ['5c75636aba258000383983ef'],\n",
       " ('sub-{subject}/{session}/asl/sub-{subject}_{session}_m0',\n",
       "  ('nii.gz',),\n",
       "  None): ['5c75636aba2580002938cfe6'],\n",
       " ('sub-{subject}/{session}/asl/sub-{subject}_{session}_mean-perfusion',\n",
       "  ('nii.gz',),\n",
       "  None): ['5c75636aba258000383983ee']}"
      ]
     },
     "execution_count": 43,
     "metadata": {},
     "output_type": "execute_result"
    }
   ],
   "source": [
    "to_rename"
   ]
  },
  {
   "cell_type": "code",
   "execution_count": 44,
   "metadata": {
    "scrolled": false
   },
   "outputs": [],
   "source": [
    "fileid = list(to_rename.values())[5][0]\n",
    "fileobj = client.get(fileid)\n",
    "session = client.get(fileobj['session'])\n",
    "\n",
    "subject_id = session['subject']['label']\n",
    "session_id = session['label']"
   ]
  },
  {
   "cell_type": "code",
   "execution_count": 45,
   "metadata": {},
   "outputs": [
    {
     "name": "stdout",
     "output_type": "stream",
     "text": [
      "010572 128154\n"
     ]
    }
   ],
   "source": [
    "print(session_id, subject_id)"
   ]
  },
  {
   "cell_type": "code",
   "execution_count": 46,
   "metadata": {},
   "outputs": [
    {
     "name": "stdout",
     "output_type": "stream",
     "text": [
      "sub-128154/ses-010572/anat/sub-128154_ses-010572_T1w\n",
      "sub-128154/ses-010572/anat/sub-128154_ses-010572_T2w\n",
      "sub-128154/ses-010572/dwi/sub-128154_ses-010572_acq-multiband_dwi\n",
      "sub-128154/ses-010572/fmap/sub-128154_ses-010572_phasediff\n",
      "sub-128154/ses-010572/fmap/sub-128154_ses-010572_magnitude\n",
      "sub-128154/ses-010572/fmap/sub-128154_ses-010572_acq-multiband_dir-j_epi\n",
      "sub-128154/ses-010572/func/sub-128154_ses-010572_task-rest_acq-multiband_bold\n",
      "sub-128154/ses-010572/func/sub-128154_ses-010572_task-rest_acq-singleband_bold\n",
      "sub-128154/ses-010572/func/sub-128154_ses-010572_task-fracback_acq-singleband_bold\n",
      "sub-128154/ses-010572/asl/sub-128154_ses-010572_acq-ref_asl\n",
      "sub-128154/ses-010572/func/sub-128154_ses-010572_task-face_acq-singleband_bold\n",
      "sub-128154/ses-010572/asl/sub-128154_ses-010572_asl\n",
      "sub-128154/ses-010572/asl/sub-128154_ses-010572_m0\n",
      "sub-128154/ses-010572/asl/sub-128154_ses-010572_mean-perfusion\n"
     ]
    }
   ],
   "source": [
    "for key, val in to_rename.items():\n",
    "    print(key[0].format(subject=subject_id, session=\"ses-\"+session_id))"
   ]
  },
  {
   "cell_type": "code",
   "execution_count": null,
   "metadata": {},
   "outputs": [],
   "source": []
  }
 ],
 "metadata": {
  "kernelspec": {
   "display_name": "Python 3",
   "language": "python",
   "name": "python3"
  },
  "language_info": {
   "codemirror_mode": {
    "name": "ipython",
    "version": 3
   },
   "file_extension": ".py",
   "mimetype": "text/x-python",
   "name": "python",
   "nbconvert_exporter": "python",
   "pygments_lexer": "ipython3",
   "version": "3.7.2"
  }
 },
 "nbformat": 4,
 "nbformat_minor": 2
}
