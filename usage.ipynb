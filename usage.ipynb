{
 "cells": [
  {
   "cell_type": "markdown",
   "metadata": {},
   "source": [
    "# Using fw-heudiconv\n",
    "\n",
    "Try some use cases for fw-heudiconv. "
   ]
  },
  {
   "cell_type": "code",
   "execution_count": 1,
   "metadata": {},
   "outputs": [
    {
     "name": "stderr",
     "output_type": "stream",
     "text": [
      "/Users/mcieslak/miniconda3/envs/qsiprep/lib/python3.7/site-packages/flywheel/flywheel.py:5474: UserWarning: Client version 6.0.6 does not match server version 5.0.4. Please update your client version!\n",
      "  warnings.warn('Client version {} does not match server version {}. Please update your client version!'.format(SDK_VERSION, release_version))\n",
      "WARNING: Use \"pip install flywheel-sdk~=5.0.4\" to install a compatible version for this server\n"
     ]
    }
   ],
   "source": [
    "import flywheel\n",
    "from fw_heudiconv.query import query\n",
    "from heudiconv import utils\n",
    "\n",
    "client = flywheel.Client()\n",
    "\n",
    "seq_infos = query(client, \"GRMPY_822831\", \"088760\", None)\n"
   ]
  },
  {
   "cell_type": "markdown",
   "metadata": {},
   "source": [
    "Testing with a real heuristic:"
   ]
  },
  {
   "cell_type": "code",
   "execution_count": 5,
   "metadata": {},
   "outputs": [],
   "source": [
    "import os\n",
    "\n",
    "\n",
    "def create_key(template, outtype=('nii.gz',), annotation_classes=None):\n",
    "    if template is None or not template:\n",
    "        raise ValueError('Template must be a valid format string')\n",
    "    return template, outtype, annotation_classes\n",
    "\n",
    "\n",
    "def infotodict(seqinfo):\n",
    "    \"\"\"Heuristic evaluator for determining which runs belong where\n",
    "\n",
    "    allowed template fields - follow python string module:\n",
    "\n",
    "    item: index within category\n",
    "    subject: participant id\n",
    "    seqitem: run number during scanning\n",
    "    subindex: sub index within group\n",
    "    \"\"\"\n",
    "\n",
    "    last_run = len(seqinfo)\n",
    "\n",
    "    # Create Keys\n",
    "    t1w = create_key(\n",
    "       'sub-{subject}/{session}/anat/sub-{subject}_{session}_T1w')\n",
    "    t2w = create_key(\n",
    "       'sub-{subject}/{session}/anat/sub-{subject}_{session}_T2w')\n",
    "    dwi = create_key(\n",
    "       'sub-{subject}/{session}/dwi/sub-{subject}_{session}_acq-multiband_dwi')\n",
    "\n",
    "    # Field maps\n",
    "    b0_phase = create_key(\n",
    "       'sub-{subject}/{session}/fmap/sub-{subject}_{session}_phasediff')\n",
    "    b0_mag = create_key(\n",
    "       'sub-{subject}/{session}/fmap/sub-{subject}_{session}_magnitude')\n",
    "    pe_rev = create_key(\n",
    "        'sub-{subject}/{session}/fmap/sub-{subject}_{session}_acq-multiband_dir-j_epi')\n",
    "\n",
    "    # fmri scans\n",
    "    rest_mb = create_key(\n",
    "       'sub-{subject}/{session}/func/sub-{subject}_{session}_task-rest_acq-multiband_bold')\n",
    "    rest_sb = create_key(\n",
    "       'sub-{subject}/{session}/func/sub-{subject}_{session}_task-rest_acq-singleband_bold')\n",
    "    fracback = create_key(\n",
    "       'sub-{subject}/{session}/func/sub-{subject}_{session}_task-fracback_acq-singleband_bold')\n",
    "    face = create_key(\n",
    "       'sub-{subject}/{session}/func/sub-{subject}_{session}_task-face_acq-singleband_bold')\n",
    "\n",
    "    # ASL scans\n",
    "    asl = create_key(\n",
    "       'sub-{subject}/{session}/asl/sub-{subject}_{session}_asl')\n",
    "    asl_dicomref = create_key(\n",
    "       'sub-{subject}/{session}/asl/sub-{subject}_{session}_acq-ref_asl')\n",
    "    m0 = create_key(\n",
    "       'sub-{subject}/{session}/asl/sub-{subject}_{session}_m0')\n",
    "    mean_perf = create_key(\n",
    "       'sub-{subject}/{session}/asl/sub-{subject}_{session}_mean-perfusion')\n",
    "\n",
    "    info = {t1w:[], t2w:[], dwi:[], b0_phase:[], \n",
    "            b0_mag:[], pe_rev:[], rest_mb:[], rest_sb:[],\n",
    "            fracback:[], asl_dicomref:[], face:[], asl:[],\n",
    "            m0:[], mean_perf:[]}\n",
    "\n",
    "    def get_latest_series(key, s):\n",
    "        if len(info[key]) == 0:\n",
    "            info[key].append(s.series_id)\n",
    "        else:\n",
    "            if info[key] < s.series_id:\n",
    "                info[key] = [s.series_id]\n",
    "\n",
    "    for s in seqinfo:\n",
    "        protocol = s.protocol_name.lower()\n",
    "        if \"mprage\" in protocol:\n",
    "            get_latest_series(t1w,s)\n",
    "        elif \"t2_sag\" in protocol:\n",
    "            get_latest_series(t2w,s)\n",
    "        elif \"b0map\" in protocol and \"M\" in s.image_type:\n",
    "            info[b0_mag].append(s.series_id)\n",
    "        elif \"b0map\" in protocol and \"P\" in s.image_type:\n",
    "            info[b0_phase].append(s.series_id)\n",
    "        elif \"topup_ref\" in protocol:\n",
    "            get_latest_series(pe_rev, s)\n",
    "        elif \"dti_multishell\" in protocol and not s.is_derived:\n",
    "            get_latest_series(dwi, s)\n",
    "\n",
    "        elif s.series_description.endswith(\"_ASL\"):\n",
    "            get_latest_series(asl, s)\n",
    "        elif protocol.startswith(\"asl_dicomref\"):\n",
    "            get_latest_series(asl_dicomref, s)\n",
    "        elif s.series_description.endswith(\"_M0\"):\n",
    "            get_latest_series(m0, s)\n",
    "        elif s.series_description.endswith(\"_MeanPerf\"):\n",
    "            get_latest_series(mean_perf, s)\n",
    "\n",
    "        elif \"fracback\" in protocol:\n",
    "            get_latest_series(fracback, s)\n",
    "        elif \"face\" in protocol:\n",
    "            get_latest_series(face,s)\n",
    "        elif \"rest\" in protocol:\n",
    "            if \"MB\" in s.image_type:\n",
    "                get_latest_series(rest_mb,s)\n",
    "            else:\n",
    "                get_latest_series(rest_mb,s)\n",
    "    return info"
   ]
  },
  {
   "cell_type": "code",
   "execution_count": 6,
   "metadata": {},
   "outputs": [
    {
     "ename": "TypeError",
     "evalue": "'<' not supported between instances of 'list' and 'NoneType'",
     "output_type": "error",
     "traceback": [
      "\u001b[0;31m---------------------------------------------------------------------------\u001b[0m",
      "\u001b[0;31mTypeError\u001b[0m                                 Traceback (most recent call last)",
      "\u001b[0;32m<ipython-input-6-dddc0d1e7196>\u001b[0m in \u001b[0;36m<module>\u001b[0;34m\u001b[0m\n\u001b[0;32m----> 1\u001b[0;31m \u001b[0mto_rename\u001b[0m \u001b[0;34m=\u001b[0m \u001b[0minfotodict\u001b[0m\u001b[0;34m(\u001b[0m\u001b[0mseq_infos\u001b[0m\u001b[0;34m)\u001b[0m\u001b[0;34m\u001b[0m\u001b[0;34m\u001b[0m\u001b[0m\n\u001b[0m",
      "\u001b[0;32m<ipython-input-5-0123cfb41d9a>\u001b[0m in \u001b[0;36minfotodict\u001b[0;34m(seqinfo)\u001b[0m\n\u001b[1;32m    101\u001b[0m                 \u001b[0mget_latest_series\u001b[0m\u001b[0;34m(\u001b[0m\u001b[0mrest_mb\u001b[0m\u001b[0;34m,\u001b[0m\u001b[0ms\u001b[0m\u001b[0;34m)\u001b[0m\u001b[0;34m\u001b[0m\u001b[0;34m\u001b[0m\u001b[0m\n\u001b[1;32m    102\u001b[0m             \u001b[0;32melse\u001b[0m\u001b[0;34m:\u001b[0m\u001b[0;34m\u001b[0m\u001b[0;34m\u001b[0m\u001b[0m\n\u001b[0;32m--> 103\u001b[0;31m                 \u001b[0mget_latest_series\u001b[0m\u001b[0;34m(\u001b[0m\u001b[0mrest_mb\u001b[0m\u001b[0;34m,\u001b[0m\u001b[0ms\u001b[0m\u001b[0;34m)\u001b[0m\u001b[0;34m\u001b[0m\u001b[0;34m\u001b[0m\u001b[0m\n\u001b[0m\u001b[1;32m    104\u001b[0m     \u001b[0;32mreturn\u001b[0m \u001b[0minfo\u001b[0m\u001b[0;34m\u001b[0m\u001b[0;34m\u001b[0m\u001b[0m\n",
      "\u001b[0;32m<ipython-input-5-0123cfb41d9a>\u001b[0m in \u001b[0;36mget_latest_series\u001b[0;34m(key, s)\u001b[0m\n\u001b[1;32m     66\u001b[0m             \u001b[0minfo\u001b[0m\u001b[0;34m[\u001b[0m\u001b[0mkey\u001b[0m\u001b[0;34m]\u001b[0m\u001b[0;34m.\u001b[0m\u001b[0mappend\u001b[0m\u001b[0;34m(\u001b[0m\u001b[0ms\u001b[0m\u001b[0;34m.\u001b[0m\u001b[0mseries_id\u001b[0m\u001b[0;34m)\u001b[0m\u001b[0;34m\u001b[0m\u001b[0;34m\u001b[0m\u001b[0m\n\u001b[1;32m     67\u001b[0m         \u001b[0;32melse\u001b[0m\u001b[0;34m:\u001b[0m\u001b[0;34m\u001b[0m\u001b[0;34m\u001b[0m\u001b[0m\n\u001b[0;32m---> 68\u001b[0;31m             \u001b[0;32mif\u001b[0m \u001b[0minfo\u001b[0m\u001b[0;34m[\u001b[0m\u001b[0mkey\u001b[0m\u001b[0;34m]\u001b[0m \u001b[0;34m<\u001b[0m \u001b[0ms\u001b[0m\u001b[0;34m.\u001b[0m\u001b[0mseries_id\u001b[0m\u001b[0;34m:\u001b[0m\u001b[0;34m\u001b[0m\u001b[0;34m\u001b[0m\u001b[0m\n\u001b[0m\u001b[1;32m     69\u001b[0m                 \u001b[0minfo\u001b[0m\u001b[0;34m[\u001b[0m\u001b[0mkey\u001b[0m\u001b[0;34m]\u001b[0m \u001b[0;34m=\u001b[0m \u001b[0;34m[\u001b[0m\u001b[0ms\u001b[0m\u001b[0;34m.\u001b[0m\u001b[0mseries_id\u001b[0m\u001b[0;34m]\u001b[0m\u001b[0;34m\u001b[0m\u001b[0;34m\u001b[0m\u001b[0m\n\u001b[1;32m     70\u001b[0m \u001b[0;34m\u001b[0m\u001b[0m\n",
      "\u001b[0;31mTypeError\u001b[0m: '<' not supported between instances of 'list' and 'NoneType'"
     ]
    }
   ],
   "source": [
    "to_rename = infotodict(seq_infos)"
   ]
  },
  {
   "cell_type": "code",
   "execution_count": null,
   "metadata": {},
   "outputs": [
    {
     "name": "stdout",
     "output_type": "stream",
     "text": [
      "> \u001b[0;32m<ipython-input-5-0123cfb41d9a>\u001b[0m(68)\u001b[0;36mget_latest_series\u001b[0;34m()\u001b[0m\n",
      "\u001b[0;32m     66 \u001b[0;31m            \u001b[0minfo\u001b[0m\u001b[0;34m[\u001b[0m\u001b[0mkey\u001b[0m\u001b[0;34m]\u001b[0m\u001b[0;34m.\u001b[0m\u001b[0mappend\u001b[0m\u001b[0;34m(\u001b[0m\u001b[0ms\u001b[0m\u001b[0;34m.\u001b[0m\u001b[0mseries_id\u001b[0m\u001b[0;34m)\u001b[0m\u001b[0;34m\u001b[0m\u001b[0;34m\u001b[0m\u001b[0m\n",
      "\u001b[0m\u001b[0;32m     67 \u001b[0;31m        \u001b[0;32melse\u001b[0m\u001b[0;34m:\u001b[0m\u001b[0;34m\u001b[0m\u001b[0;34m\u001b[0m\u001b[0m\n",
      "\u001b[0m\u001b[0;32m---> 68 \u001b[0;31m            \u001b[0;32mif\u001b[0m \u001b[0minfo\u001b[0m\u001b[0;34m[\u001b[0m\u001b[0mkey\u001b[0m\u001b[0;34m]\u001b[0m \u001b[0;34m<\u001b[0m \u001b[0ms\u001b[0m\u001b[0;34m.\u001b[0m\u001b[0mseries_id\u001b[0m\u001b[0;34m:\u001b[0m\u001b[0;34m\u001b[0m\u001b[0;34m\u001b[0m\u001b[0m\n",
      "\u001b[0m\u001b[0;32m     69 \u001b[0;31m                \u001b[0minfo\u001b[0m\u001b[0;34m[\u001b[0m\u001b[0mkey\u001b[0m\u001b[0;34m]\u001b[0m \u001b[0;34m=\u001b[0m \u001b[0;34m[\u001b[0m\u001b[0ms\u001b[0m\u001b[0;34m.\u001b[0m\u001b[0mseries_id\u001b[0m\u001b[0;34m]\u001b[0m\u001b[0;34m\u001b[0m\u001b[0;34m\u001b[0m\u001b[0m\n",
      "\u001b[0m\u001b[0;32m     70 \u001b[0;31m\u001b[0;34m\u001b[0m\u001b[0m\n",
      "\u001b[0m\n",
      "ipdb> info\n",
      "{('sub-{subject}/{session}/anat/sub-{subject}_{session}_T1w', ('nii.gz',), None): [], ('sub-{subject}/{session}/anat/sub-{subject}_{session}_T2w', ('nii.gz',), None): [], ('sub-{subject}/{session}/dwi/sub-{subject}_{session}_acq-multiband_dwi', ('nii.gz',), None): [], ('sub-{subject}/{session}/fmap/sub-{subject}_{session}_phasediff', ('nii.gz',), None): [], ('sub-{subject}/{session}/fmap/sub-{subject}_{session}_magnitude', ('nii.gz',), None): [], ('sub-{subject}/{session}/fmap/sub-{subject}_{session}_acq-multiband_dir-j_epi', ('nii.gz',), None): [], ('sub-{subject}/{session}/func/sub-{subject}_{session}_task-rest_acq-multiband_bold', ('nii.gz',), None): [None], ('sub-{subject}/{session}/func/sub-{subject}_{session}_task-rest_acq-singleband_bold', ('nii.gz',), None): [], ('sub-{subject}/{session}/func/sub-{subject}_{session}_task-fracback_acq-singleband_bold', ('nii.gz',), None): [], ('sub-{subject}/{session}/asl/sub-{subject}_{session}_acq-ref_asl', ('nii.gz',), None): [], ('sub-{subject}/{session}/func/sub-{subject}_{session}_task-face_acq-singleband_bold', ('nii.gz',), None): [], ('sub-{subject}/{session}/asl/sub-{subject}_{session}_asl', ('nii.gz',), None): [], ('sub-{subject}/{session}/asl/sub-{subject}_{session}_m0', ('nii.gz',), None): [], ('sub-{subject}/{session}/asl/sub-{subject}_{session}_mean-perfusion', ('nii.gz',), None): []}\n",
      "ipdb> key\n",
      "('sub-{subject}/{session}/func/sub-{subject}_{session}_task-rest_acq-multiband_bold', ('nii.gz',), None)\n",
      "ipdb> info[key]\n",
      "[None]\n"
     ]
    }
   ],
   "source": [
    "debug"
   ]
  }
 ],
 "metadata": {
  "kernelspec": {
   "display_name": "Python 3",
   "language": "python",
   "name": "python3"
  },
  "language_info": {
   "codemirror_mode": {
    "name": "ipython",
    "version": 3
   },
   "file_extension": ".py",
   "mimetype": "text/x-python",
   "name": "python",
   "nbconvert_exporter": "python",
   "pygments_lexer": "ipython3",
   "version": "3.7.2"
  }
 },
 "nbformat": 4,
 "nbformat_minor": 2
}
